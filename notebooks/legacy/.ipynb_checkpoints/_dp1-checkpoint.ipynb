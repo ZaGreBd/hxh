{
 "cells": [
  {
   "cell_type": "code",
   "execution_count": 14,
   "id": "c1c5cebb-096a-4898-b056-9fd5437d2915",
   "metadata": {},
   "outputs": [],
   "source": [
    "def dp1(dataSet):\n",
    "    try:\n",
    "        #Removing customerID\n",
    "        dataSet = dataSet.drop(columns=['customerID', 'gender', 'internetService', 'paymentMethod'])\n",
    "\n",
    "        #Changing contracts from verbose to months and removing from number view\n",
    "        dataSet['contract'] = dataSet['contract'].map({'Month-to-month':'mt', 'One year':'oy', 'Two year':'ty'})\n",
    "        dataSet = dataSet.drop(columns=['contract'])\n",
    "\n",
    "        #Changing cols from 'Yes' to 1, and 'No' to 0\n",
    "        for col in ['partner', 'dependents', 'phoneService', 'paperlessBilling', 'churn']:\n",
    "            dataSet[col] = dataSet[col].map({'Yes':1, 'No':0})\n",
    "\n",
    "        #Changing cols from 'Yes' to 1, and 'No' to 0. Filling the other values with 0.5\n",
    "        for col in ['multipleLines', 'onlineSecurity', 'onlineBackup', 'deviceProtection', 'techSupport', 'streamingTV', 'streamingMovies']:\n",
    "            dataSet[col] = dataSet[col].map({'Yes':1, 'No':0}).fillna(0.5)\n",
    "\n",
    "        \n",
    "        \n",
    "\n",
    "        return dataSet\n",
    "    except Exception as e:\n",
    "        print(f\"Error processing {dataSet} at dp1. {e}\")"
   ]
  },
  {
   "cell_type": "code",
   "execution_count": null,
   "id": "466066d4-3981-45a2-9434-d076c68ebd71",
   "metadata": {},
   "outputs": [],
   "source": []
  }
 ],
 "metadata": {
  "kernelspec": {
   "display_name": "Python 3 (ipykernel)",
   "language": "python",
   "name": "python3"
  },
  "language_info": {
   "codemirror_mode": {
    "name": "ipython",
    "version": 3
   },
   "file_extension": ".py",
   "mimetype": "text/x-python",
   "name": "python",
   "nbconvert_exporter": "python",
   "pygments_lexer": "ipython3",
   "version": "3.13.3"
  }
 },
 "nbformat": 4,
 "nbformat_minor": 5
}
