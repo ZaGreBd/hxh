{
 "cells": [
  {
   "cell_type": "code",
   "execution_count": 97,
   "id": "a91fd8f7-fd5d-45a5-8d5f-13d9f6781dfa",
   "metadata": {
    "scrolled": true
   },
   "outputs": [
    {
     "name": "stdout",
     "output_type": "stream",
     "text": [
      "Index(['gender', 'partner', 'dependents', 'phoneService', 'multipleLines',\n",
      "       'internetService', 'onlineSecurity', 'onlineBackup', 'deviceProtection',\n",
      "       'techSupport', 'streamingTV', 'streamingMovies', 'contract',\n",
      "       'paperlessBilling', 'paymentMethod'],\n",
      "      dtype='object')\n",
      "['gender_Female' 'gender_Male' 'partner_No' 'partner_Yes' 'dependents_No'\n",
      " 'dependents_Yes' 'phoneService_No' 'phoneService_Yes' 'multipleLines_No'\n",
      " 'multipleLines_No phone service' 'multipleLines_Yes'\n",
      " 'internetService_DSL' 'internetService_Fiber optic' 'internetService_No'\n",
      " 'onlineSecurity_No' 'onlineSecurity_No internet service'\n",
      " 'onlineSecurity_Yes' 'onlineBackup_No' 'onlineBackup_No internet service'\n",
      " 'onlineBackup_Yes' 'deviceProtection_No'\n",
      " 'deviceProtection_No internet service' 'deviceProtection_Yes'\n",
      " 'techSupport_No' 'techSupport_No internet service' 'techSupport_Yes'\n",
      " 'streamingTV_No' 'streamingTV_No internet service' 'streamingTV_Yes'\n",
      " 'streamingMovies_No' 'streamingMovies_No internet service'\n",
      " 'streamingMovies_Yes' 'contract_Month-to-month' 'contract_One year'\n",
      " 'contract_Two year' 'paperlessBilling_No' 'paperlessBilling_Yes'\n",
      " 'paymentMethod_Bank transfer (automatic)'\n",
      " 'paymentMethod_Credit card (automatic)' 'paymentMethod_Electronic check'\n",
      " 'paymentMethod_Mailed check']\n",
      "      gender  seniorCitizen partner dependents  tenure phoneService  \\\n",
      "0     Female              0     Yes         No       1           No   \n",
      "1       Male              0      No         No      34          Yes   \n",
      "2       Male              0      No         No       2          Yes   \n",
      "3       Male              0      No         No      45           No   \n",
      "4     Female              0      No         No       2          Yes   \n",
      "...      ...            ...     ...        ...     ...          ...   \n",
      "7038    Male              0     Yes        Yes      24          Yes   \n",
      "7039  Female              0     Yes        Yes      72          Yes   \n",
      "7040  Female              0     Yes        Yes      11           No   \n",
      "7041    Male              1     Yes         No       4          Yes   \n",
      "7042    Male              0      No         No      66          Yes   \n",
      "\n",
      "         multipleLines internetService onlineSecurity onlineBackup  \\\n",
      "0     No phone service             DSL             No          Yes   \n",
      "1                   No             DSL            Yes           No   \n",
      "2                   No             DSL            Yes          Yes   \n",
      "3     No phone service             DSL            Yes           No   \n",
      "4                   No     Fiber optic             No           No   \n",
      "...                ...             ...            ...          ...   \n",
      "7038               Yes             DSL            Yes           No   \n",
      "7039               Yes     Fiber optic             No          Yes   \n",
      "7040  No phone service             DSL            Yes           No   \n",
      "7041               Yes     Fiber optic             No           No   \n",
      "7042                No     Fiber optic            Yes           No   \n",
      "\n",
      "     deviceProtection techSupport streamingTV streamingMovies        contract  \\\n",
      "0                  No          No          No              No  Month-to-month   \n",
      "1                 Yes          No          No              No        One year   \n",
      "2                  No          No          No              No  Month-to-month   \n",
      "3                 Yes         Yes          No              No        One year   \n",
      "4                  No          No          No              No  Month-to-month   \n",
      "...               ...         ...         ...             ...             ...   \n",
      "7038              Yes         Yes         Yes             Yes        One year   \n",
      "7039              Yes          No         Yes             Yes        One year   \n",
      "7040               No          No          No              No  Month-to-month   \n",
      "7041               No          No          No              No  Month-to-month   \n",
      "7042              Yes         Yes         Yes             Yes        Two year   \n",
      "\n",
      "     paperlessBilling              paymentMethod  monthlyCharges  \\\n",
      "0                 Yes           Electronic check           29.85   \n",
      "1                  No               Mailed check           56.95   \n",
      "2                 Yes               Mailed check           53.85   \n",
      "3                  No  Bank transfer (automatic)           42.30   \n",
      "4                 Yes           Electronic check           70.70   \n",
      "...               ...                        ...             ...   \n",
      "7038              Yes               Mailed check           84.80   \n",
      "7039              Yes    Credit card (automatic)          103.20   \n",
      "7040              Yes           Electronic check           29.60   \n",
      "7041              Yes               Mailed check           74.40   \n",
      "7042              Yes  Bank transfer (automatic)          105.65   \n",
      "\n",
      "      totalCharges  churn  \n",
      "0            29.85      0  \n",
      "1          1889.50      0  \n",
      "2           108.15      1  \n",
      "3          1840.75      0  \n",
      "4           151.65      1  \n",
      "...            ...    ...  \n",
      "7038       1990.50      0  \n",
      "7039       7362.90      0  \n",
      "7040        346.45      0  \n",
      "7041        306.60      1  \n",
      "7042       6844.50      0  \n",
      "\n",
      "[7032 rows x 20 columns]\n"
     ]
    }
   ],
   "source": [
    "%run $main.ipynb\n",
    "import matplotlib.pyplot as plt\n",
    "from sklearn.neural_network import MLPClassifier\n",
    "\n",
    "#dataRule = {'dataRules': [0, 1, 2, 3]}\n",
    "#datas = main(1, dataRule)\n",
    "\n",
    "datas = main(pr=0)\n",
    "print(datas)"
   ]
  },
  {
   "cell_type": "code",
   "execution_count": null,
   "id": "4aea09c7-797a-4b5d-b956-b2a31add5504",
   "metadata": {},
   "outputs": [],
   "source": [
    "print(datas.head(datas.shape[0]-500))"
   ]
  },
  {
   "cell_type": "code",
   "execution_count": null,
   "id": "1c0b293c-8c29-4b83-a25a-3a6bd36b729b",
   "metadata": {},
   "outputs": [],
   "source": [
    "print(datas.iloc[:-500,-1].values)"
   ]
  },
  {
   "cell_type": "code",
   "execution_count": null,
   "id": "2e0a6aef-66ac-44ed-b601-f6f39ffd17cd",
   "metadata": {},
   "outputs": [],
   "source": [
    "mlp = MLPClassifier(hidden_layer_sizes=(640,640), activation=\"logistic\", max_iter=200, alpha=.001, solver=\"sgd\", tol=1e-9, learning_rate_init=.001, \n",
    "                    verbose=True)\n",
    "mlp = mlp.fit(datas.head(datas.shape[0]-1400), datas.iloc[:-1400,-1].values)"
   ]
  },
  {
   "cell_type": "code",
   "execution_count": 59,
   "id": "74a9f845-d054-4018-88e1-22e6764be8b0",
   "metadata": {},
   "outputs": [
    {
     "data": {
      "text/plain": [
       "array([0, 0, 1, ..., 0, 0, 0], shape=(1400,))"
      ]
     },
     "execution_count": 59,
     "metadata": {},
     "output_type": "execute_result"
    }
   ],
   "source": [
    "mlp.predict(datas.tail(1400))"
   ]
  },
  {
   "cell_type": "code",
   "execution_count": null,
   "id": "11ca0c20-10df-40ed-9e06-e9b71e107bee",
   "metadata": {},
   "outputs": [],
   "source": []
  }
 ],
 "metadata": {
  "kernelspec": {
   "display_name": "Python 3 (ipykernel)",
   "language": "python",
   "name": "python3"
  },
  "language_info": {
   "codemirror_mode": {
    "name": "ipython",
    "version": 3
   },
   "file_extension": ".py",
   "mimetype": "text/x-python",
   "name": "python",
   "nbconvert_exporter": "python",
   "pygments_lexer": "ipython3",
   "version": "3.13.3"
  }
 },
 "nbformat": 4,
 "nbformat_minor": 5
}
