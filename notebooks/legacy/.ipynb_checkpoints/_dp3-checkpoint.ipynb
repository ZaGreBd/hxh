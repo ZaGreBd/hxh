{
 "cells": [
  {
   "cell_type": "code",
   "execution_count": null,
   "id": "efd50368-01da-41cf-a06f-bbd2c7c4d8b0",
   "metadata": {},
   "outputs": [],
   "source": [
    "# Internet Rule\n",
    "def dp3(dataSet):\n",
    "    try:\n",
    "        dataSet = dataSet.drop(\n",
    "            columns=[\n",
    "                'internetService', \n",
    "                'onlineSecurity', \n",
    "                'onlineBackup', \n",
    "                'deviceProtection', \n",
    "                'techSupport', \n",
    "                'streamingTV', \n",
    "                'streamingMovies'\n",
    "            ]\n",
    "        )\n",
    "\n",
    "        return dataSet\n",
    "    except Exception as e:\n",
    "        print(f\"Error processing {dataSet} at dp1. {e}\")"
   ]
  }
 ],
 "metadata": {
  "kernelspec": {
   "display_name": "Python 3 (ipykernel)",
   "language": "python",
   "name": "python3"
  },
  "language_info": {
   "codemirror_mode": {
    "name": "ipython",
    "version": 3
   },
   "file_extension": ".py",
   "mimetype": "text/x-python",
   "name": "python",
   "nbconvert_exporter": "python",
   "pygments_lexer": "ipython3",
   "version": "3.13.3"
  }
 },
 "nbformat": 4,
 "nbformat_minor": 5
}
