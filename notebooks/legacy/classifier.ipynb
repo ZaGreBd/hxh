{
 "cells": [
  {
   "cell_type": "code",
   "execution_count": 4,
   "id": "a91fd8f7-fd5d-45a5-8d5f-13d9f6781dfa",
   "metadata": {
    "scrolled": true
   },
   "outputs": [
    {
     "name": "stdout",
     "output_type": "stream",
     "text": [
      "Error processing       gender  seniorCitizen partner dependents  tenure phoneService  \\\n",
      "0     Female              0     Yes         No       1           No   \n",
      "1       Male              0      No         No      34          Yes   \n",
      "2       Male              0      No         No       2          Yes   \n",
      "3       Male              0      No         No      45           No   \n",
      "4     Female              0      No         No       2          Yes   \n",
      "...      ...            ...     ...        ...     ...          ...   \n",
      "7038    Male              0     Yes        Yes      24          Yes   \n",
      "7039  Female              0     Yes        Yes      72          Yes   \n",
      "7040  Female              0     Yes        Yes      11           No   \n",
      "7041    Male              1     Yes         No       4          Yes   \n",
      "7042    Male              0      No         No      66          Yes   \n",
      "\n",
      "         multipleLines internetService onlineSecurity onlineBackup  \\\n",
      "0     No phone service             DSL             No          Yes   \n",
      "1                   No             DSL            Yes           No   \n",
      "2                   No             DSL            Yes          Yes   \n",
      "3     No phone service             DSL            Yes           No   \n",
      "4                   No     Fiber optic             No           No   \n",
      "...                ...             ...            ...          ...   \n",
      "7038               Yes             DSL            Yes           No   \n",
      "7039               Yes     Fiber optic             No          Yes   \n",
      "7040  No phone service             DSL            Yes           No   \n",
      "7041               Yes     Fiber optic             No           No   \n",
      "7042                No     Fiber optic            Yes           No   \n",
      "\n",
      "     deviceProtection techSupport streamingTV streamingMovies        contract  \\\n",
      "0                  No          No          No              No  Month-to-month   \n",
      "1                 Yes          No          No              No        One year   \n",
      "2                  No          No          No              No  Month-to-month   \n",
      "3                 Yes         Yes          No              No        One year   \n",
      "4                  No          No          No              No  Month-to-month   \n",
      "...               ...         ...         ...             ...             ...   \n",
      "7038              Yes         Yes         Yes             Yes        One year   \n",
      "7039              Yes          No         Yes             Yes        One year   \n",
      "7040               No          No          No              No  Month-to-month   \n",
      "7041               No          No          No              No  Month-to-month   \n",
      "7042              Yes         Yes         Yes             Yes        Two year   \n",
      "\n",
      "     paperlessBilling              paymentMethod  monthlyCharges totalCharges  \\\n",
      "0                 Yes           Electronic check           29.85        29.85   \n",
      "1                  No               Mailed check           56.95       1889.5   \n",
      "2                 Yes               Mailed check           53.85       108.15   \n",
      "3                  No  Bank transfer (automatic)           42.30      1840.75   \n",
      "4                 Yes           Electronic check           70.70       151.65   \n",
      "...               ...                        ...             ...          ...   \n",
      "7038              Yes               Mailed check           84.80       1990.5   \n",
      "7039              Yes    Credit card (automatic)          103.20       7362.9   \n",
      "7040              Yes           Electronic check           29.60       346.45   \n",
      "7041              Yes               Mailed check           74.40        306.6   \n",
      "7042              Yes  Bank transfer (automatic)          105.65       6844.5   \n",
      "\n",
      "     churn  \n",
      "0       No  \n",
      "1       No  \n",
      "2      Yes  \n",
      "3       No  \n",
      "4      Yes  \n",
      "...    ...  \n",
      "7038    No  \n",
      "7039    No  \n",
      "7040    No  \n",
      "7041   Yes  \n",
      "7042    No  \n",
      "\n",
      "[7043 rows x 20 columns]. name 'pd' is not defined\n",
      "Error processing       gender  seniorCitizen partner dependents  tenure phoneService  \\\n",
      "0     Female              0     Yes         No       1           No   \n",
      "1       Male              0      No         No      34          Yes   \n",
      "2       Male              0      No         No       2          Yes   \n",
      "3       Male              0      No         No      45           No   \n",
      "4     Female              0      No         No       2          Yes   \n",
      "...      ...            ...     ...        ...     ...          ...   \n",
      "7038    Male              0     Yes        Yes      24          Yes   \n",
      "7039  Female              0     Yes        Yes      72          Yes   \n",
      "7040  Female              0     Yes        Yes      11           No   \n",
      "7041    Male              1     Yes         No       4          Yes   \n",
      "7042    Male              0      No         No      66          Yes   \n",
      "\n",
      "         multipleLines internetService onlineSecurity onlineBackup  \\\n",
      "0     No phone service             DSL             No          Yes   \n",
      "1                   No             DSL            Yes           No   \n",
      "2                   No             DSL            Yes          Yes   \n",
      "3     No phone service             DSL            Yes           No   \n",
      "4                   No     Fiber optic             No           No   \n",
      "...                ...             ...            ...          ...   \n",
      "7038               Yes             DSL            Yes           No   \n",
      "7039               Yes     Fiber optic             No          Yes   \n",
      "7040  No phone service             DSL            Yes           No   \n",
      "7041               Yes     Fiber optic             No           No   \n",
      "7042                No     Fiber optic            Yes           No   \n",
      "\n",
      "     deviceProtection techSupport streamingTV streamingMovies        contract  \\\n",
      "0                  No          No          No              No  Month-to-month   \n",
      "1                 Yes          No          No              No        One year   \n",
      "2                  No          No          No              No  Month-to-month   \n",
      "3                 Yes         Yes          No              No        One year   \n",
      "4                  No          No          No              No  Month-to-month   \n",
      "...               ...         ...         ...             ...             ...   \n",
      "7038              Yes         Yes         Yes             Yes        One year   \n",
      "7039              Yes          No         Yes             Yes        One year   \n",
      "7040               No          No          No              No  Month-to-month   \n",
      "7041               No          No          No              No  Month-to-month   \n",
      "7042              Yes         Yes         Yes             Yes        Two year   \n",
      "\n",
      "     paperlessBilling              paymentMethod  monthlyCharges totalCharges  \\\n",
      "0                 Yes           Electronic check           29.85        29.85   \n",
      "1                  No               Mailed check           56.95       1889.5   \n",
      "2                 Yes               Mailed check           53.85       108.15   \n",
      "3                  No  Bank transfer (automatic)           42.30      1840.75   \n",
      "4                 Yes           Electronic check           70.70       151.65   \n",
      "...               ...                        ...             ...          ...   \n",
      "7038              Yes               Mailed check           84.80       1990.5   \n",
      "7039              Yes    Credit card (automatic)          103.20       7362.9   \n",
      "7040              Yes           Electronic check           29.60       346.45   \n",
      "7041              Yes               Mailed check           74.40        306.6   \n",
      "7042              Yes  Bank transfer (automatic)          105.65       6844.5   \n",
      "\n",
      "      churn  \n",
      "0         0  \n",
      "1         0  \n",
      "2         1  \n",
      "3         0  \n",
      "4         1  \n",
      "...     ...  \n",
      "7038      0  \n",
      "7039      0  \n",
      "7040      0  \n",
      "7041      1  \n",
      "7042      0  \n",
      "\n",
      "[7043 rows x 20 columns]. name 'pd' is not defined\n",
      "None\n"
     ]
    }
   ],
   "source": [
    "%run $main.ipynb\n",
    "import matplotlib.pyplot as plt\n",
    "from sklearn.neural_network import MLPClassifier\n",
    "\n",
    "#dataRule = {'dataRules': [0, 1, 2, 3]}\n",
    "#datas = main(1, dataRule)\n",
    "\n",
    "datas = main(pr=0)\n",
    "print(datas)"
   ]
  },
  {
   "cell_type": "code",
   "execution_count": null,
   "id": "4aea09c7-797a-4b5d-b956-b2a31add5504",
   "metadata": {},
   "outputs": [],
   "source": [
    "print(datas.head(datas.shape[0]-500))"
   ]
  },
  {
   "cell_type": "code",
   "execution_count": null,
   "id": "1c0b293c-8c29-4b83-a25a-3a6bd36b729b",
   "metadata": {},
   "outputs": [],
   "source": [
    "print(datas.iloc[:-500,-1].values)"
   ]
  },
  {
   "cell_type": "code",
   "execution_count": null,
   "id": "0bd62fa2-f49b-4b3a-8175-4cf78c3768ee",
   "metadata": {},
   "outputs": [],
   "source": []
  },
  {
   "cell_type": "code",
   "execution_count": null,
   "id": "2e0a6aef-66ac-44ed-b601-f6f39ffd17cd",
   "metadata": {},
   "outputs": [],
   "source": [
    "mlp = MLPClassifier(hidden_layer_sizes=(640,640), activation=\"logistic\", max_iter=200, alpha=.001, solver=\"sgd\", tol=1e-9, learning_rate_init=.001, \n",
    "                    verbose=True)\n",
    "mlp = mlp.fit(datas.head(datas.shape[0]-1400), datas.iloc[:-1400,-1].values)"
   ]
  },
  {
   "cell_type": "code",
   "execution_count": 59,
   "id": "74a9f845-d054-4018-88e1-22e6764be8b0",
   "metadata": {},
   "outputs": [
    {
     "data": {
      "text/plain": [
       "array([0, 0, 1, ..., 0, 0, 0], shape=(1400,))"
      ]
     },
     "execution_count": 59,
     "metadata": {},
     "output_type": "execute_result"
    }
   ],
   "source": [
    "mlp.predict(datas.tail(1400))"
   ]
  },
  {
   "cell_type": "code",
   "execution_count": null,
   "id": "11ca0c20-10df-40ed-9e06-e9b71e107bee",
   "metadata": {},
   "outputs": [],
   "source": []
  }
 ],
 "metadata": {
  "kernelspec": {
   "display_name": "Python 3 (ipykernel)",
   "language": "python",
   "name": "python3"
  },
  "language_info": {
   "codemirror_mode": {
    "name": "ipython",
    "version": 3
   },
   "file_extension": ".py",
   "mimetype": "text/x-python",
   "name": "python",
   "nbconvert_exporter": "python",
   "pygments_lexer": "ipython3",
   "version": "3.13.3"
  }
 },
 "nbformat": 4,
 "nbformat_minor": 5
}
