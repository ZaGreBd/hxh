{
 "cells": [
  {
   "cell_type": "code",
   "execution_count": null,
   "id": "e6ca4bcf-3191-4598-96e4-197fe54055f4",
   "metadata": {},
   "outputs": [],
   "source": [
    "%run baseSpliter.ipynb\n",
    "def svm(testSize, scaler):\n",
    "    featuresTrain, featuresTest, targetTrain, targetTest = spliter(testSize, scaler)\n",
    "    \n",
    "    from sklearn.model_selection import GridSearchCV\n",
    "    from sklearn.svm import SVM\n",
    "    from sklearn.metrics import confusion_matrix, classification_report, roc_auc_score\n",
    "   \n",
    "\n",
    "    # Support Vector Machine params\n",
    "    paramsSVC = {\n",
    "        'C': [0.1, 1, 10], \n",
    "        'kernel': ['linear', 'rbf']\n",
    "    }\n",
    "    \n",
    "    # Support Vector Machine training\n",
    "    gridSVC = GridSearchCV(SVM(probability=True, random_state=42), paramsSVC, cv=5)\n",
    "    gridSVC.fit(featuresTrain, targetTrain)\n",
    "    \n",
    "    # Support Vector Machine testing\n",
    "    predictedSVC = gridSVC.predict(featuresTest)\n",
    "    \n",
    "    # Support Vector Machine results\n",
    "    print(\"Support Vector Machine\")\n",
    "    print(\"Best Params:\", gridSVC.best_params_)\n",
    "    print(confusion_matrix(targetTest, predictedSVC))\n",
    "    print(classification_report(targetTest, predictedSVC))\n",
    "    print(\"ROC-AUC:\", roc_auc_score(targetTest, predictedSVC))"
   ]
  },
  {
   "cell_type": "code",
   "execution_count": null,
   "id": "d01ea7d8-171f-4c9c-8d58-4aa75167174b",
   "metadata": {},
   "outputs": [],
   "source": [
    "testSize = 0.2\n",
    "scaler = \"ss\"\n",
    "svc(testSize, scaler)"
   ]
  }
 ],
 "metadata": {
  "kernelspec": {
   "display_name": "Python 3 (ipykernel)",
   "language": "python",
   "name": "python3"
  },
  "language_info": {
   "codemirror_mode": {
    "name": "ipython",
    "version": 3
   },
   "file_extension": ".py",
   "mimetype": "text/x-python",
   "name": "python",
   "nbconvert_exporter": "python",
   "pygments_lexer": "ipython3",
   "version": "3.13.3"
  }
 },
 "nbformat": 4,
 "nbformat_minor": 5
}
