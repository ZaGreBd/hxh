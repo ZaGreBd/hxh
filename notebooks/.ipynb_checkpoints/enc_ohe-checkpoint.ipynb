{
 "cells": [
  {
   "cell_type": "code",
   "execution_count": 2,
   "id": "2672a5f3-bc3c-43cb-9a7f-6232512dafe1",
   "metadata": {},
   "outputs": [],
   "source": [
    "from sklearn.preprocessing import MinMaxScaler\n",
    "%run main.ipynb\n",
    "\n",
    "def ohe():\n",
    "    dataSet = main()\n",
    "\n",
    "    # Setting all cols to 'Yes' or 'No'\n",
    "    cols = ['multipleLines', 'onlineSecurity', 'onlineBackup', 'deviceProtection', 'techSupport', 'streamingTV', 'streamingMovies']\n",
    "    for col in cols:\n",
    "        dataSet[col] = dataSet[col].replace({'No internet service': 'No', 'No phone service': 'No'})\n",
    "    #print(dataSet)\n",
    "\n",
    "    # Setting all cols from 'Yes'/'No' to 1/0\n",
    "    # binCols\n",
    "    cols = ['partner', 'dependents', 'phoneService', 'paperlessBilling', 'churn'] + cols\n",
    "    for col in cols:\n",
    "        dataSet[col] = dataSet[col].map({'Yes': 1, 'No': 0})    \n",
    "    #print(dataSet)\n",
    "\n",
    "    # Applying OneHotEncoder\n",
    "    # catCols\n",
    "    cols = ['gender', 'internetService', 'contract', 'paymentMethod']\n",
    "    dataSet = pd.get_dummies(dataSet, columns=cols, dtype=int, drop_first=False)\n",
    "    dataSet.columns = dataSet.columns.str.replace(' ', '_')\n",
    "    #print(dataSet)\n",
    "\n",
    "    # New features\n",
    "    # 1. Average amount paid monthly by customer\n",
    "    dataSet['avgMonthlyPaid'] = dataSet['totalCharges'] / dataSet['tenure'].replace(0, 1) \n",
    "    \n",
    "    # 2. Automatic payment method\n",
    "    dataSet['paymentMethod_auto'] = dataSet[\n",
    "        ['paymentMethod_Bank_transfer_(automatic)', 'paymentMethod_Credit_card_(automatic)']\n",
    "    ].any(axis=1).astype(int)\n",
    "    dataSet.drop(['paymentMethod_Bank_transfer_(automatic)', 'paymentMethod_Credit_card_(automatic)'], axis=1, inplace=True)\n",
    "\n",
    "    # 3. Checking payment method\n",
    "    dataSet['paymentMethod_check'] = dataSet[\n",
    "        ['paymentMethod_Electronic_check', 'paymentMethod_Mailed_check']\n",
    "    ].any(axis=1).astype(int)\n",
    "    dataSet.drop(['paymentMethod_Electronic_check', 'paymentMethod_Mailed_check'], axis=1, inplace=True)\n",
    "    \n",
    "\n",
    "\n",
    "    return dataSet"
   ]
  },
  {
   "cell_type": "code",
   "execution_count": null,
   "id": "d71663a3-1a2f-4197-8080-f9230ed53de1",
   "metadata": {},
   "outputs": [],
   "source": []
  }
 ],
 "metadata": {
  "kernelspec": {
   "display_name": "Python 3 (ipykernel)",
   "language": "python",
   "name": "python3"
  },
  "language_info": {
   "codemirror_mode": {
    "name": "ipython",
    "version": 3
   },
   "file_extension": ".py",
   "mimetype": "text/x-python",
   "name": "python",
   "nbconvert_exporter": "python",
   "pygments_lexer": "ipython3",
   "version": "3.13.3"
  }
 },
 "nbformat": 4,
 "nbformat_minor": 5
}
