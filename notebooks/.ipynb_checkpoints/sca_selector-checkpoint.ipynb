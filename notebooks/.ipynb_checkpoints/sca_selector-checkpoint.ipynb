{
 "cells": [
  {
   "cell_type": "code",
   "execution_count": 4,
   "id": "1232bea0-72b5-482e-ae8e-e6f81f263e7b",
   "metadata": {},
   "outputs": [],
   "source": [
    "# Scaler selector\n",
    "# \"mm\" to MinMax | \"ss\" to standardScaler\n",
    "# 0 to treated dataSet | 1 to reduced dataSet\n",
    "def scaler(sca=\"ss\", kbest=1):\n",
    "    %run sca_stdSca.ipynb\n",
    "    %run sca_minMax.ipynb\n",
    "    \n",
    "    match(sca):\n",
    "        case \"ss\":\n",
    "            if kbest:\n",
    "                dataSet = stdScaReduced()\n",
    "            else:\n",
    "                dataSet = stdSca()\n",
    "        case \"mm\":\n",
    "            if kbest:\n",
    "                dataSet = minMaxReduced()\n",
    "            else:\n",
    "                dataSet = minMax()\n",
    "        case _:\n",
    "            return False\n",
    "    \n",
    "    return dataSet"
   ]
  },
  {
   "cell_type": "code",
   "execution_count": null,
   "id": "cd9f8ad6-9f2e-477a-ae3c-eb8a08a835e8",
   "metadata": {},
   "outputs": [],
   "source": []
  }
 ],
 "metadata": {
  "kernelspec": {
   "display_name": "Python 3 (ipykernel)",
   "language": "python",
   "name": "python3"
  },
  "language_info": {
   "codemirror_mode": {
    "name": "ipython",
    "version": 3
   },
   "file_extension": ".py",
   "mimetype": "text/x-python",
   "name": "python",
   "nbconvert_exporter": "python",
   "pygments_lexer": "ipython3",
   "version": "3.13.3"
  }
 },
 "nbformat": 4,
 "nbformat_minor": 5
}
