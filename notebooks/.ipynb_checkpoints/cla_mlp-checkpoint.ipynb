{
 "cells": [
  {
   "cell_type": "code",
   "execution_count": 64,
   "id": "d8d61ce5-1cca-4bb7-b384-e64d490fd943",
   "metadata": {},
   "outputs": [],
   "source": [
    "%run baseSpliter.ipynb\n",
    "def mlp(testSize, scaler):\n",
    "    featuresTrain, featuresTest, targetTrain, targetTest = spliter(testSize, scaler)\n",
    "    \n",
    "    from sklearn.model_selection import GridSearchCV\n",
    "    from sklearn.neural_network import MLPClassifier\n",
    "    from sklearn.metrics import confusion_matrix, classification_report, roc_auc_score\n",
    "    \n",
    "    # Multilayer Perceptron params\n",
    "    paramsMLP = {\n",
    "        'hidden_layer_sizes': [(10,1)], # (5,), (5,5,), (8,), (9,), (9,1), (9,2), (9,5), (10,), (10,1,1), (10,1,2), (10,5,), (10, 10,), (11,), (12,), (20,)\n",
    "        'activation': ['relu'], # 'tanh', 'logistic', 'identity'\n",
    "        'solver': ['adam'], # 'sgd'\n",
    "        'max_iter': [1000], # 100, 200, 500, 2000, 5000, 10000\n",
    "        'alpha':[0.0002], # 0.001, 0.005, 0.0001, 0.00015, 0.00025, 0.0003, 0.0004, 0.0005\n",
    "        'learning_rate_init': [0.001], # 0.0001, 0.0005, 0.0009, 0.0011, 0.0015 0.002, 0.005, 0.01\n",
    "        'tol': [1e-7], # 1e-6, 1e-8, 1e-9, 1e-11, 1e-16\n",
    "    }\n",
    "    \n",
    "    # Multilayer Perceptron training\n",
    "    gridMLP = GridSearchCV(MLPClassifier(random_state=42), paramsMLP, cv=5)\n",
    "    gridMLP.fit(featuresTrain, targetTrain)\n",
    "    \n",
    "    # Multilayer Perceptron testing\n",
    "    predictedMLP = gridMLP.predict(featuresTest)\n",
    "    \n",
    "    # Multilayer Perceptron results\n",
    "    print(\"Multilayer Perceptron\")\n",
    "    print(\"Best Params:\", gridMLP.best_params_)\n",
    "    print(confusion_matrix(targetTest, predictedMLP))\n",
    "    print(classification_report(targetTest, predictedMLP))\n",
    "    print(\"ROC-AUC:\", roc_auc_score(targetTest, predictedMLP))"
   ]
  },
  {
   "cell_type": "code",
   "execution_count": 63,
   "id": "0ac9801c-c4b9-44a1-a3fa-9c8a49ade2d4",
   "metadata": {},
   "outputs": [],
   "source": [
    "#testSize = 0.2\n",
    "#scaler = \"ss\"\n",
    "#mlp(testSize, scaler)"
   ]
  },
  {
   "cell_type": "code",
   "execution_count": null,
   "id": "181b0fe5-2492-476d-ba0f-4b930dbeaf2e",
   "metadata": {},
   "outputs": [],
   "source": []
  }
 ],
 "metadata": {
  "kernelspec": {
   "display_name": "Python 3 (ipykernel)",
   "language": "python",
   "name": "python3"
  },
  "language_info": {
   "codemirror_mode": {
    "name": "ipython",
    "version": 3
   },
   "file_extension": ".py",
   "mimetype": "text/x-python",
   "name": "python",
   "nbconvert_exporter": "python",
   "pygments_lexer": "ipython3",
   "version": "3.13.3"
  }
 },
 "nbformat": 4,
 "nbformat_minor": 5
}
