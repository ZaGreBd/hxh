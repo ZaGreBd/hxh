{
 "cells": [
  {
   "cell_type": "code",
   "execution_count": 16,
   "id": "3a95a9c5-5142-4dfa-808e-14e4fa2c562d",
   "metadata": {},
   "outputs": [],
   "source": [
    "from sklearn.preprocessing import LabelEncoder, StandardScaler\n",
    "\n",
    "def dataProcessing(dataSet, pr):\n",
    "    try:\n",
    "        dataSet = dataSet.drop(columns=['customerID'])\n",
    "\n",
    "        dataSet[\"totalCharges\"] = pd.to_numeric(dataSet[\"totalCharges\"], errors='coerce')\n",
    "        dataSet.dropna(inplace=True)\n",
    "        \n",
    "        cols = dataSet.select_dtypes(include='object').columns\n",
    "        le = LabelEncoder()\n",
    "        for col in cols:\n",
    "            dataSet[col] = le.fit_transform(dataSet[col])\n",
    "        \n",
    "        #dataSet_encoded = pd.get_dummies(dataSet, columns=cols, dtype=float)\n",
    "        #dataSet_encoded = pd.get_dummies(dataSet_encoded, columns=['churn'], dtype=int)\n",
    "        #print(dataSet_encoded)\n",
    "\n",
    "        ########\n",
    "        #Changing contracts using one-hot encoding\n",
    "        #dataSet['contract'] = dataSet['contract'].map({'Month-to-month':'mt', 'One year':'oy', 'Two year':'ty'})\n",
    "        #dataSet = dataSet.drop(columns=['contract'])\n",
    "\n",
    "        #Changing cols using one-hot encoding\n",
    "        #for col in ['partner', 'dependents', 'phoneService', 'paperlessBilling', 'churn']:\n",
    "        #    dataSet[col] = dataSet[col].map({'Yes':1, 'No':0})\n",
    "\n",
    "        #Changing cols from 'Yes' to 1, and 'No' to 0. Filling the other values with 0.5\n",
    "        #for col in ['multipleLines', 'onlineSecurity', 'onlineBackup', 'deviceProtection', 'techSupport', 'streamingTV', 'streamingMovies']:\n",
    "        #    dataSet[col] = dataSet[col].map({'Yes':1, 'No':0}).fillna(0.5)\n",
    "        \n",
    "        if pr:\n",
    "            print(f\"Data processing applied!\\n{'*'*20}\")\n",
    "\n",
    "        return dataSet\n",
    "    except Exception as e:\n",
    "        print(f\"Error processing {dataSet}. {e}\")"
   ]
  },
  {
   "cell_type": "code",
   "execution_count": null,
   "id": "2d50a852-993a-4997-8aaa-5a67b21f2222",
   "metadata": {},
   "outputs": [],
   "source": []
  }
 ],
 "metadata": {
  "kernelspec": {
   "display_name": "Python 3 (ipykernel)",
   "language": "python",
   "name": "python3"
  },
  "language_info": {
   "codemirror_mode": {
    "name": "ipython",
    "version": 3
   },
   "file_extension": ".py",
   "mimetype": "text/x-python",
   "name": "python",
   "nbconvert_exporter": "python",
   "pygments_lexer": "ipython3",
   "version": "3.13.3"
  }
 },
 "nbformat": 4,
 "nbformat_minor": 5
}
