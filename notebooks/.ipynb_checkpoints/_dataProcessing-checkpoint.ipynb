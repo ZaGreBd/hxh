{
 "cells": [
  {
   "cell_type": "code",
   "execution_count": 6,
   "id": "3a95a9c5-5142-4dfa-808e-14e4fa2c562d",
   "metadata": {},
   "outputs": [],
   "source": [
    "def dataProcessing(dataSet, dataProcessingRule):\n",
    "    %run _dp1.ipynb\n",
    "    %run _dp2.ipynb\n",
    "    %run _dp3.ipynb\n",
    "    \n",
    "    try:\n",
    "        for rule in dataProcessingRule['dataRules']:\n",
    "            found = True\n",
    "            match rule:\n",
    "                case 0:\n",
    "                    dataSet = dataSet\n",
    "                case 1:\n",
    "                    dataSet = dp1(dataSet)\n",
    "                case 2:\n",
    "                    dataSet = dp2(dataSet)\n",
    "                case 3:\n",
    "                    dataSet = dp3(dataSet)\n",
    "                case _:\n",
    "                    print(\"Value is not recognized\")\n",
    "                    found = False\n",
    "            if dataProcessingRule['dataRulePrint'] and found:\n",
    "                print(f\"Data processing rule {rule} applied!\\n{'*'*20}\")\n",
    "\n",
    "        return dataSet\n",
    "    except Exception as e:\n",
    "        print(f\"Error processing {dataSet} at dp{dataProcessingRule['dataRule']}. {e}\")"
   ]
  },
  {
   "cell_type": "code",
   "execution_count": null,
   "id": "2d50a852-993a-4997-8aaa-5a67b21f2222",
   "metadata": {},
   "outputs": [],
   "source": []
  }
 ],
 "metadata": {
  "kernelspec": {
   "display_name": "Python 3 (ipykernel)",
   "language": "python",
   "name": "python3"
  },
  "language_info": {
   "codemirror_mode": {
    "name": "ipython",
    "version": 3
   },
   "file_extension": ".py",
   "mimetype": "text/x-python",
   "name": "python",
   "nbconvert_exporter": "python",
   "pygments_lexer": "ipython3",
   "version": "3.13.3"
  }
 },
 "nbformat": 4,
 "nbformat_minor": 5
}
