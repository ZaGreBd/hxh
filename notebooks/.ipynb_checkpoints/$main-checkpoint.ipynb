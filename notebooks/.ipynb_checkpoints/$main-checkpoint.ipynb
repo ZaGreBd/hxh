{
 "cells": [
  {
   "cell_type": "code",
   "execution_count": 18,
   "id": "b8eac277-5eb5-4c0b-a2fc-26fab78d3683",
   "metadata": {},
   "outputs": [],
   "source": [
    "# default dataset file = \"dataset_tcc_churn_0-1.csv\" \n",
    "# default dataset subpath = \"dataset_tcc_churn_0-1.csv\" \n",
    "def main(dataProcessingRule={'dataRules':[1]}, file=\"dataset_tcc_churn_0-1.csv\", path=\"../datasets/telco-customer-churn/versions/1/\", pr=1):\n",
    "    try:\n",
    "        %run _dataProcessing.ipynb\n",
    "        %run $rename.ipynb\n",
    "        %run $impData.ipynb\n",
    "        \n",
    "        dataProcessingRule['dataRulePrint'] = pr\n",
    "        \n",
    "        dataSet = impData(pr, file, path)\n",
    "        rename(dataSet, pr)\n",
    "    \n",
    "        dataSet = dataProcessing(dataSet, dataProcessingRule) # Define the dataProcessing rule to use\n",
    "        \n",
    "        if pr:\n",
    "            print(f\"Dataset {file} imported!\\n{'*'*20}\")\n",
    "            \n",
    "    except Exception as e:\n",
    "        print(f\"Error importing {file}. {e}\")\n",
    "\n",
    "    return dataSet"
   ]
  },
  {
   "cell_type": "code",
   "execution_count": null,
   "id": "70c261ed-665d-4e38-8774-4aa78c18754e",
   "metadata": {},
   "outputs": [],
   "source": []
  }
 ],
 "metadata": {
  "kernelspec": {
   "display_name": "Python 3 (ipykernel)",
   "language": "python",
   "name": "python3"
  },
  "language_info": {
   "codemirror_mode": {
    "name": "ipython",
    "version": 3
   },
   "file_extension": ".py",
   "mimetype": "text/x-python",
   "name": "python",
   "nbconvert_exporter": "python",
   "pygments_lexer": "ipython3",
   "version": "3.13.3"
  }
 },
 "nbformat": 4,
 "nbformat_minor": 5
}
