{
 "cells": [
  {
   "cell_type": "code",
   "execution_count": 20,
   "id": "3668e43a-d404-473d-8e36-fe3a394cf1e0",
   "metadata": {
    "scrolled": true
   },
   "outputs": [
    {
     "name": "stdout",
     "output_type": "stream",
     "text": [
      "<class 'pandas.core.frame.DataFrame'>\n",
      "RangeIndex: 7043 entries, 0 to 7042\n",
      "Data columns (total 27 columns):\n",
      " #   Column                       Non-Null Count  Dtype  \n",
      "---  ------                       --------------  -----  \n",
      " 0   seniorCitizen                7043 non-null   int64  \n",
      " 1   partner                      7043 non-null   int64  \n",
      " 2   dependents                   7043 non-null   int64  \n",
      " 3   tenure                       7043 non-null   float64\n",
      " 4   phoneService                 7043 non-null   int64  \n",
      " 5   multipleLines                7043 non-null   int64  \n",
      " 6   onlineSecurity               7043 non-null   int64  \n",
      " 7   onlineBackup                 7043 non-null   int64  \n",
      " 8   deviceProtection             7043 non-null   int64  \n",
      " 9   techSupport                  7043 non-null   int64  \n",
      " 10  streamingTV                  7043 non-null   int64  \n",
      " 11  streamingMovies              7043 non-null   int64  \n",
      " 12  paperlessBilling             7043 non-null   int64  \n",
      " 13  monthlyCharges               7043 non-null   float64\n",
      " 14  totalCharges                 7043 non-null   float64\n",
      " 15  churn                        7043 non-null   int64  \n",
      " 16  gender_Female                7043 non-null   int64  \n",
      " 17  gender_Male                  7043 non-null   int64  \n",
      " 18  internetService_DSL          7043 non-null   int64  \n",
      " 19  internetService_Fiber_optic  7043 non-null   int64  \n",
      " 20  internetService_No           7043 non-null   int64  \n",
      " 21  contract_Month-to-month      7043 non-null   int64  \n",
      " 22  contract_One_year            7043 non-null   int64  \n",
      " 23  contract_Two_year            7043 non-null   int64  \n",
      " 24  avgMonthlyPaid               7043 non-null   float64\n",
      " 25  paymentMethod_auto           7043 non-null   int64  \n",
      " 26  paymentMethod_check          7043 non-null   int64  \n",
      "dtypes: float64(4), int64(23)\n",
      "memory usage: 1.5 MB\n"
     ]
    }
   ],
   "source": [
    "from sklearn.cluster import KMeans\n",
    "import pandas as pd\n",
    "\n",
    "%run sca_stdSca.ipynb\n",
    "%run sca_minMax.ipynb\n",
    "\n",
    "# Selecting scaler\n",
    "scaler = \"ss\"\n",
    "if scaler==\"ss\":\n",
    "    dataSet = stdSca()\n",
    "elif scaler==\"mm\":\n",
    "    dataSet = minMax()\n",
    "else:\n",
    "    print(\"Invalid scaler name\")\n",
    "dataSet.info()"
   ]
  },
  {
   "cell_type": "code",
   "execution_count": 18,
   "id": "86b18a77-bb79-44a7-9833-9461d1298e7f",
   "metadata": {},
   "outputs": [],
   "source": [
    "# Creating no churn dataset\n",
    "clusterFeatures = dataSet.drop('churn', axis=1)\n",
    "\n",
    "# Appling KMeans\n",
    "kmeans = KMeans(n_clusters=3, random_state=42)\n",
    "labels = kmeans.fit_predict(clusterFeatures)\n",
    "\n",
    "clusteredDataSet = dataSet.copy()\n",
    "clusteredDataSet['cluster'] = labels\n",
    "clusteredDataSet['churn'] = dataSet['churn'].values"
   ]
  },
  {
   "cell_type": "code",
   "execution_count": null,
   "id": "1618c9b2-d74c-4451-9b02-3d9065415fe0",
   "metadata": {},
   "outputs": [],
   "source": [
    "print(clusteredDataSet['cluster'].value_counts())\n",
    "\n",
    "# Churn mean by cluster\n",
    "print(\"\\nChurn mean by cluster:\")\n",
    "print(clusteredDataSet.groupby('cluster')['churn'].mean())\n",
    "\n",
    "# Na\n",
    "print(\"\\nMonthly charges by cluster:\")\n",
    "print(clusteredDataSet.groupby('cluster')['monthlyCharges'].mean())\n",
    "\n",
    "\n",
    "# Churn rate by cluster\n",
    "services = [\n",
    "    'internetService_DSL', 'internetService_Fiber_optic', 'streamingMovies', 'streamingTV', 'phoneService'\n",
    "    ]\n",
    "print(\"\\nMean services by cluster:\")\n",
    "print(clusteredDataSet.groupby('cluster')[services].mean())\n"
   ]
  },
  {
   "cell_type": "code",
   "execution_count": null,
   "id": "bbb38431-da34-49d4-98ca-fe646dc2dbda",
   "metadata": {},
   "outputs": [],
   "source": [
    "from sklearn.decomposition import PCA\n",
    "import matplotlib.pyplot as plt\n",
    "import seaborn as sns\n",
    "\n",
    "# Reduzir para 2 componentes apenas para o gráfico\n",
    "pca = PCA(n_components=2)\n",
    "X_pca_vis = pca.fit_transform(clusterFeatures)\n",
    "\n",
    "# Criar DataFrame para visualização\n",
    "df_vis = pd.DataFrame(X_pca_vis, columns=['PC1', 'PC2'])\n",
    "df_vis['cluster'] = labels\n",
    "\n",
    "# Plotar\n",
    "plt.figure(figsize=(10, 6))\n",
    "sns.scatterplot(data=df_vis, x='PC1', y='PC2', hue='cluster', palette='Set1', alpha=0.7)\n",
    "plt.title('Clusters view 2D')\n",
    "plt.grid(True)\n",
    "plt.show()\n"
   ]
  }
 ],
 "metadata": {
  "kernelspec": {
   "display_name": "Python 3 (ipykernel)",
   "language": "python",
   "name": "python3"
  },
  "language_info": {
   "codemirror_mode": {
    "name": "ipython",
    "version": 3
   },
   "file_extension": ".py",
   "mimetype": "text/x-python",
   "name": "python",
   "nbconvert_exporter": "python",
   "pygments_lexer": "ipython3",
   "version": "3.13.3"
  }
 },
 "nbformat": 4,
 "nbformat_minor": 5
}
