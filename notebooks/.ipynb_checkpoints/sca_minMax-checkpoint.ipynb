{
 "cells": [
  {
   "cell_type": "code",
   "execution_count": 4,
   "id": "c11403d0-4044-48f0-9924-569ea2185829",
   "metadata": {
    "scrolled": true
   },
   "outputs": [
    {
     "name": "stdout",
     "output_type": "stream",
     "text": [
      "<class 'pandas.core.frame.DataFrame'>\n",
      "RangeIndex: 7043 entries, 0 to 7042\n",
      "Data columns (total 28 columns):\n",
      " #   Column                                   Non-Null Count  Dtype  \n",
      "---  ------                                   --------------  -----  \n",
      " 0   seniorCitizen                            7043 non-null   int64  \n",
      " 1   partner                                  7043 non-null   int64  \n",
      " 2   dependents                               7043 non-null   int64  \n",
      " 3   tenure                                   7043 non-null   float64\n",
      " 4   phoneService                             7043 non-null   int64  \n",
      " 5   multipleLines                            7043 non-null   int64  \n",
      " 6   onlineSecurity                           7043 non-null   int64  \n",
      " 7   onlineBackup                             7043 non-null   int64  \n",
      " 8   deviceProtection                         7043 non-null   int64  \n",
      " 9   techSupport                              7043 non-null   int64  \n",
      " 10  streamingTV                              7043 non-null   int64  \n",
      " 11  streamingMovies                          7043 non-null   int64  \n",
      " 12  paperlessBilling                         7043 non-null   int64  \n",
      " 13  monthlyCharges                           7043 non-null   float64\n",
      " 14  totalCharges                             7043 non-null   float64\n",
      " 15  churn                                    7043 non-null   int64  \n",
      " 16  gender_Female                            7043 non-null   int64  \n",
      " 17  gender_Male                              7043 non-null   int64  \n",
      " 18  internetService_DSL                      7043 non-null   int64  \n",
      " 19  internetService_Fiber_optic              7043 non-null   int64  \n",
      " 20  internetService_No                       7043 non-null   int64  \n",
      " 21  contract_Month-to-month                  7043 non-null   int64  \n",
      " 22  contract_One_year                        7043 non-null   int64  \n",
      " 23  contract_Two_year                        7043 non-null   int64  \n",
      " 24  paymentMethod_Bank_transfer_(automatic)  7043 non-null   int64  \n",
      " 25  paymentMethod_Credit_card_(automatic)    7043 non-null   int64  \n",
      " 26  paymentMethod_Electronic_check           7043 non-null   int64  \n",
      " 27  paymentMethod_Mailed_check               7043 non-null   int64  \n",
      "dtypes: float64(3), int64(25)\n",
      "memory usage: 1.5 MB\n",
      "        tenure  monthlyCharges  totalCharges\n",
      "0     0.013889        0.115423      0.003437\n",
      "1     0.472222        0.385075      0.217564\n",
      "2     0.027778        0.354229      0.012453\n",
      "3     0.625000        0.239303      0.211951\n",
      "4     0.027778        0.521891      0.017462\n",
      "...        ...             ...           ...\n",
      "7038  0.333333        0.662189      0.229194\n",
      "7039  1.000000        0.845274      0.847792\n",
      "7040  0.152778        0.112935      0.039892\n",
      "7041  0.055556        0.558706      0.035303\n",
      "7042  0.916667        0.869652      0.788101\n",
      "\n",
      "[7043 rows x 3 columns]\n"
     ]
    }
   ],
   "source": [
    "from sklearn.preprocessing import MinMaxScaler\n",
    "%run enc_ohe.ipynb\n",
    "\n",
    "def minMax():\n",
    "    dataSet = ohe()\n",
    "    \n",
    "    # Applying Standard Scaler\n",
    "    # Num_cols\n",
    "    cols = ['tenure', 'monthlyCharges', 'totalCharges']\n",
    "    scaler = MinMaxScaler()\n",
    "    dataSet[cols] = scaler.fit_transform(dataSet[cols])\n",
    "    \n",
    "    dataSet.info()\n",
    "    dataSet[cols].describe()\n",
    "    print(dataSet[cols])\n",
    "\n",
    "    return dataSet\n",
    "        \n",
    "dataSet = minMax()"
   ]
  },
  {
   "cell_type": "code",
   "execution_count": null,
   "id": "2b97e856-e69d-43ea-8e0c-d4bedc86d74a",
   "metadata": {},
   "outputs": [],
   "source": []
  }
 ],
 "metadata": {
  "kernelspec": {
   "display_name": "Python 3 (ipykernel)",
   "language": "python",
   "name": "python3"
  },
  "language_info": {
   "codemirror_mode": {
    "name": "ipython",
    "version": 3
   },
   "file_extension": ".py",
   "mimetype": "text/x-python",
   "name": "python",
   "nbconvert_exporter": "python",
   "pygments_lexer": "ipython3",
   "version": "3.13.3"
  }
 },
 "nbformat": 4,
 "nbformat_minor": 5
}
