{
 "cells": [
  {
   "cell_type": "code",
   "execution_count": 7,
   "id": "c1c5cebb-096a-4898-b056-9fd5437d2915",
   "metadata": {},
   "outputs": [],
   "source": [
    "def dp1(dataSet):\n",
    "    try:\n",
    "        dataSet = dataSet.drop(columns=['customerID'])\n",
    "\n",
    "        contractTable = {\n",
    "            'Month-to-month':1,\n",
    "            'One year':12,\n",
    "            'Two year':24\n",
    "        }\n",
    "        for time, value in contractTable.items():\n",
    "            dataSet['contract'] = dataSet['contract'].replace(time, value)\n",
    "\n",
    "        \n",
    "\n",
    "        return dataSet\n",
    "    except Exception as e:\n",
    "        print(f\"Error processing {dataSet} at dp1. {e}\")"
   ]
  },
  {
   "cell_type": "code",
   "execution_count": null,
   "id": "466066d4-3981-45a2-9434-d076c68ebd71",
   "metadata": {},
   "outputs": [],
   "source": []
  }
 ],
 "metadata": {
  "kernelspec": {
   "display_name": "Python 3 (ipykernel)",
   "language": "python",
   "name": "python3"
  },
  "language_info": {
   "codemirror_mode": {
    "name": "ipython",
    "version": 3
   },
   "file_extension": ".py",
   "mimetype": "text/x-python",
   "name": "python",
   "nbconvert_exporter": "python",
   "pygments_lexer": "ipython3",
   "version": "3.13.3"
  }
 },
 "nbformat": 4,
 "nbformat_minor": 5
}
