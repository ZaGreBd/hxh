{
 "cells": [
  {
   "cell_type": "code",
   "execution_count": 2,
   "id": "4017b1ca-4294-4752-aa49-08bd248722b4",
   "metadata": {},
   "outputs": [],
   "source": [
    "def rename(ds, pr=1):\n",
    "    try:\n",
    "        for col in ds.head(0).columns:\n",
    "            ds.rename(\n",
    "                columns = {\n",
    "                    f\"{col}\":f\"{col[0].lower()+col[1:]}\"\n",
    "                },\n",
    "                inplace=True\n",
    "            )\n",
    "        if pr:\n",
    "            print(f\"Dataset renamed!\\n{'*'*20}\")\n",
    "    except Exception as e:\n",
    "        print(f\"Error renaming {ds}. {e}\")\n",
    "        \n",
    "    return ds"
   ]
  },
  {
   "cell_type": "code",
   "execution_count": null,
   "id": "528a4ed7-c301-42ec-8eaa-e40cf7f8aefa",
   "metadata": {},
   "outputs": [],
   "source": []
  }
 ],
 "metadata": {
  "kernelspec": {
   "display_name": "Python 3 (ipykernel)",
   "language": "python",
   "name": "python3"
  },
  "language_info": {
   "codemirror_mode": {
    "name": "ipython",
    "version": 3
   },
   "file_extension": ".py",
   "mimetype": "text/x-python",
   "name": "python",
   "nbconvert_exporter": "python",
   "pygments_lexer": "ipython3",
   "version": "3.13.3"
  }
 },
 "nbformat": 4,
 "nbformat_minor": 5
}
