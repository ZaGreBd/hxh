{
 "cells": [
  {
   "cell_type": "code",
   "execution_count": 2,
   "id": "de825869-f563-4792-9d31-655a13024ced",
   "metadata": {},
   "outputs": [],
   "source": [
    "def spliter(testSize=0.2, sca=\"ss\"):\n",
    "    %run sca_selector.ipynb\n",
    "    \n",
    "    from sklearn.model_selection import train_test_split\n",
    "\n",
    "    # Selecting scaler\n",
    "    dataSet = scaler(sca, 1)\n",
    "\n",
    "    # Setting datas to be trained and class to be tested\n",
    "    features = dataSet.drop('churn', axis=1)\n",
    "    target = dataSet['churn']\n",
    "    \n",
    "    # Train and Test separation (e.g. 80%/20%)\n",
    "    featuresTrain, featuresTest, targetTrain, targetTest = train_test_split(features, target, test_size=testSize, random_state=42)\n",
    "\n",
    "    return featuresTrain, featuresTest, targetTrain, targetTest"
   ]
  },
  {
   "cell_type": "code",
   "execution_count": null,
   "id": "13daf0b3-296c-480e-88bd-0c3c981d8748",
   "metadata": {},
   "outputs": [],
   "source": []
  }
 ],
 "metadata": {
  "kernelspec": {
   "display_name": "Python 3 (ipykernel)",
   "language": "python",
   "name": "python3"
  },
  "language_info": {
   "codemirror_mode": {
    "name": "ipython",
    "version": 3
   },
   "file_extension": ".py",
   "mimetype": "text/x-python",
   "name": "python",
   "nbconvert_exporter": "python",
   "pygments_lexer": "ipython3",
   "version": "3.13.3"
  }
 },
 "nbformat": 4,
 "nbformat_minor": 5
}
