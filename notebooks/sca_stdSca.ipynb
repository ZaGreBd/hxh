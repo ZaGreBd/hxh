{
 "cells": [
  {
   "cell_type": "code",
   "execution_count": 10,
   "id": "6cbe44d8-e3cf-42f9-8c13-fd4e846db31e",
   "metadata": {
    "scrolled": true
   },
   "outputs": [
    {
     "name": "stdout",
     "output_type": "stream",
     "text": [
      "<class 'pandas.core.frame.DataFrame'>\n",
      "RangeIndex: 7043 entries, 0 to 7042\n",
      "Data columns (total 28 columns):\n",
      " #   Column                                   Non-Null Count  Dtype  \n",
      "---  ------                                   --------------  -----  \n",
      " 0   seniorCitizen                            7043 non-null   int64  \n",
      " 1   partner                                  7043 non-null   int64  \n",
      " 2   dependents                               7043 non-null   int64  \n",
      " 3   tenure                                   7043 non-null   float64\n",
      " 4   phoneService                             7043 non-null   int64  \n",
      " 5   multipleLines                            7043 non-null   int64  \n",
      " 6   onlineSecurity                           7043 non-null   int64  \n",
      " 7   onlineBackup                             7043 non-null   int64  \n",
      " 8   deviceProtection                         7043 non-null   int64  \n",
      " 9   techSupport                              7043 non-null   int64  \n",
      " 10  streamingTV                              7043 non-null   int64  \n",
      " 11  streamingMovies                          7043 non-null   int64  \n",
      " 12  paperlessBilling                         7043 non-null   int64  \n",
      " 13  monthlyCharges                           7043 non-null   float64\n",
      " 14  totalCharges                             7043 non-null   float64\n",
      " 15  churn                                    7043 non-null   int64  \n",
      " 16  gender_Female                            7043 non-null   int64  \n",
      " 17  gender_Male                              7043 non-null   int64  \n",
      " 18  internetService_DSL                      7043 non-null   int64  \n",
      " 19  internetService_Fiber_optic              7043 non-null   int64  \n",
      " 20  internetService_No                       7043 non-null   int64  \n",
      " 21  contract_Month-to-month                  7043 non-null   int64  \n",
      " 22  contract_One_year                        7043 non-null   int64  \n",
      " 23  contract_Two_year                        7043 non-null   int64  \n",
      " 24  paymentMethod_Bank_transfer_(automatic)  7043 non-null   int64  \n",
      " 25  paymentMethod_Credit_card_(automatic)    7043 non-null   int64  \n",
      " 26  paymentMethod_Electronic_check           7043 non-null   int64  \n",
      " 27  paymentMethod_Mailed_check               7043 non-null   int64  \n",
      "dtypes: float64(3), int64(25)\n",
      "memory usage: 1.5 MB\n",
      "        tenure  monthlyCharges  totalCharges\n",
      "0    -1.277445       -1.160323     -0.992611\n",
      "1     0.066327       -0.259629     -0.172165\n",
      "2    -1.236724       -0.362660     -0.958066\n",
      "3     0.514251       -0.746535     -0.193672\n",
      "4    -1.236724        0.197365     -0.938874\n",
      "...        ...             ...           ...\n",
      "7038 -0.340876        0.665992     -0.127605\n",
      "7039  1.613701        1.277533      2.242606\n",
      "7040 -0.870241       -1.168632     -0.852932\n",
      "7041 -1.155283        0.320338     -0.870513\n",
      "7042  1.369379        1.358961      2.013897\n",
      "\n",
      "[7043 rows x 3 columns]\n"
     ]
    }
   ],
   "source": [
    "from sklearn.preprocessing import StandardScaler\n",
    "%run enc_ohe.ipynb\n",
    "\n",
    "def stdSca():\n",
    "    dataSet = ohe()\n",
    "    \n",
    "    # Applying Standard Scaler\n",
    "    # Num_cols\n",
    "    cols = ['tenure', 'monthlyCharges', 'totalCharges']\n",
    "    scaler = StandardScaler()\n",
    "    dataSet[cols] = scaler.fit_transform(dataSet[cols])\n",
    "    \n",
    "    dataSet.info()\n",
    "    dataSet[cols].describe()\n",
    "    print(dataSet[cols])\n",
    "\n",
    "    return dataSet\n",
    "\n",
    "dataSet = stdSca()"
   ]
  },
  {
   "cell_type": "code",
   "execution_count": null,
   "id": "4b4446a1-adde-4b3b-8e0c-7243624185ac",
   "metadata": {},
   "outputs": [],
   "source": []
  }
 ],
 "metadata": {
  "kernelspec": {
   "display_name": "Python 3 (ipykernel)",
   "language": "python",
   "name": "python3"
  },
  "language_info": {
   "codemirror_mode": {
    "name": "ipython",
    "version": 3
   },
   "file_extension": ".py",
   "mimetype": "text/x-python",
   "name": "python",
   "nbconvert_exporter": "python",
   "pygments_lexer": "ipython3",
   "version": "3.13.3"
  }
 },
 "nbformat": 4,
 "nbformat_minor": 5
}
