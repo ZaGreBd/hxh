{
 "cells": [
  {
   "cell_type": "code",
   "execution_count": 79,
   "id": "ba03e3f3-b6f6-4cb2-ad9a-bd08278e0caf",
   "metadata": {},
   "outputs": [
    {
     "name": "stdout",
     "output_type": "stream",
     "text": [
      "Downloading from https://www.kaggle.com/api/v1/datasets/download/blastchar/telco-customer-churn?dataset_version_number=1...\n"
     ]
    },
    {
     "name": "stderr",
     "output_type": "stream",
     "text": [
      "100%|████████████████████████████████████████████████████████████████████████████████| 172k/172k [00:00<00:00, 360kB/s]"
     ]
    },
    {
     "name": "stdout",
     "output_type": "stream",
     "text": [
      "Extracting files...\n",
      "Folder 'C:\\Users\\pedro.b.g.neto\\.cache\\kagglehub\\datasets\\blastchar\\telco-customer-churn\\' moved to 'C:\\Users\\pedro.b.g.neto\\desktop\\projs\\hxh\\datasets' successfully! 🎉\n",
      "********************\n",
      "Error removing folder: [WinError 32] O arquivo já está sendo usado por outro processo: 'C:\\\\Users\\\\pedro.b.g.neto\\\\.ipython\\\\profile_default\\\\history.sqlite'\n",
      "********************\n",
      "FOUND WA_Fn-UseC_-Telco-Customer-Churn.csv at C:\\Users\\pedro.b.g.neto\\desktop\\projs\\hxh\\datasets\\telco-customer-churn\\versions\\1\\WA_Fn-UseC_-Telco-Customer-Churn.csv !!!!!\n",
      "File 'C:\\Users\\pedro.b.g.neto\\desktop\\projs\\hxh\\datasets' renamed successfully! 🎉\n",
      "********************\n"
     ]
    },
    {
     "name": "stderr",
     "output_type": "stream",
     "text": [
      "\n"
     ]
    }
   ],
   "source": [
    "def openFolder(path, file, name):\n",
    "    path = os.scandir(path)\n",
    "    paths = []\n",
    "    for i in path:\n",
    "        paths.append(i)\n",
    "    \n",
    "    if paths[0].name == file:\n",
    "        print(f\"FOUND {paths[0].name} at {paths[0].path} !!!!!\")\n",
    "        os.rename(paths[0].path, name)\n",
    "        shutil.move(name, paths[0].path[:paths[0].path.index(paths[0].name)])\n",
    "        \n",
    "        return True, paths[0].name\n",
    "    else:\n",
    "        for i in paths:\n",
    "            if i.is_dir():\n",
    "                openFolder(i, file, name)\n",
    "\n",
    "# Line separator\n",
    "def visualSep(char, qtd):\n",
    "    print(f\"{char}\"*qtd)\n",
    "\n",
    "# ==================================================\n",
    "#Main code\n",
    "\n",
    "# pip install kagglehub kagglehub[pandas-datasets]\n",
    "import kagglehub\n",
    "import shutil\n",
    "import os\n",
    "\n",
    "# Download latest version\n",
    "source_path = kagglehub.dataset_download(\"blastchar/telco-customer-churn\")\n",
    "\n",
    "# Setting source and destination path\n",
    "source_path = source_path[:source_path.index(\"versions\")] #Set to move all download folder recursivelly\n",
    "destination_path = r\"C:\\Users\\pedro.b.g.neto\\desktop\\projs\\hxh\\datasets\" #Define destination folder changing before \\hxh\\datasets\n",
    "\n",
    "# Check if the source folder exists\n",
    "if not os.path.exists(source_path):\n",
    "    print(f\"Error: Source folder '{source_path}' not found.\") #ARRUMAR PARA MOVER TODOS OS ARQUIVOS\n",
    "    visualSep(\"*\", 20)\n",
    "else:\n",
    "    \n",
    "    # Move the folder\n",
    "    try:\n",
    "        shutil.move(source_path, destination_path)\n",
    "        print(f\"Folder '{source_path}' moved to '{destination_path}' successfully! 🎉\")\n",
    "    except Exception as e:\n",
    "        print(f\"Error moving folder: {e}\")\n",
    "    visualSep(\"*\", 20)\n",
    "    \n",
    "    # Remove the unnecessary remain folders\n",
    "    try:\n",
    "        source_path = source_path[:source_path.index(\".cache\")] # Folder to be recursivelly cleaned\n",
    "        shutil.rmtree(source_path)\n",
    "        print(f\"Folder '{source_path}' removed successfully! 🎉\")\n",
    "    except Exception as e:\n",
    "        print(f\"Error removing folder: {e}\")\n",
    "    visualSep(\"*\", 20)\n",
    "\n",
    "    # Rename csv file\n",
    "    try:\n",
    "        file = \"WA_Fn-UseC_-Telco-Customer-Churn.csv\" # Target file\n",
    "        name = \"dataset_tcc_churn_0-1.csv\" # New file name\n",
    "        openFolder(destination_path, file, name)\n",
    "        \n",
    "        print(f\"File '{destination_path}' renamed successfully! 🎉\")\n",
    "    except Exception as e:\n",
    "        print(f\"Error renaming csv file: {e}\")\n",
    "    visualSep(\"*\", 20)"
   ]
  },
  {
   "cell_type": "code",
   "execution_count": null,
   "id": "9fae7818-29e2-416d-bdac-9ccba9732178",
   "metadata": {},
   "outputs": [],
   "source": []
  }
 ],
 "metadata": {
  "kernelspec": {
   "display_name": "Python 3 (ipykernel)",
   "language": "python",
   "name": "python3"
  },
  "language_info": {
   "codemirror_mode": {
    "name": "ipython",
    "version": 3
   },
   "file_extension": ".py",
   "mimetype": "text/x-python",
   "name": "python",
   "nbconvert_exporter": "python",
   "pygments_lexer": "ipython3",
   "version": "3.13.3"
  }
 },
 "nbformat": 4,
 "nbformat_minor": 5
}
