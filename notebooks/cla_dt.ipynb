{
 "cells": [
  {
   "cell_type": "code",
   "execution_count": 74,
   "id": "34ea96b8-041a-4efe-982e-2c9dba094580",
   "metadata": {},
   "outputs": [],
   "source": [
    "%run baseSpliter.ipynb\n",
    "def dt(testSize, scaler):\n",
    "    featuresTrain, featuresTest, targetTrain, targetTest = spliter(testSize, scaler)\n",
    "    \n",
    "    from sklearn.model_selection import GridSearchCV\n",
    "    from sklearn.tree import DecisionTreeClassifier\n",
    "    from sklearn.metrics import confusion_matrix, classification_report, roc_auc_score\n",
    "    \n",
    "    # Decision Tree params\n",
    "    paramsDT = {\n",
    "        'max_depth': [4] # 1, 2, 3, 5\n",
    "    }\n",
    "    \n",
    "    # Decision Tree training\n",
    "    gridDT = GridSearchCV(DecisionTreeClassifier(random_state=42), paramsDT, cv=5)\n",
    "    gridDT.fit(featuresTrain, targetTrain)\n",
    "    \n",
    "    # Decision Tree testing\n",
    "    predictedDT = gridDT.predict(featuresTest)\n",
    "    \n",
    "    # Decision Tree results\n",
    "    print(\"Decision Tree\")\n",
    "    print(\"Best Params:\", gridDT.best_params_)\n",
    "    print(confusion_matrix(targetTest, predictedDT)) #ENTENDER\n",
    "    print(classification_report(targetTest, predictedDT))\n",
    "    print(\"ROC-AUC:\", roc_auc_score(targetTest, predictedDT))"
   ]
  },
  {
   "cell_type": "code",
   "execution_count": 77,
   "id": "02240735-6219-43ed-b08d-c0b6f62a7002",
   "metadata": {},
   "outputs": [],
   "source": [
    "#testSize = 0.2\n",
    "#scaler = \"ss\"\n",
    "#dt(testSize, scaler)"
   ]
  },
  {
   "cell_type": "code",
   "execution_count": null,
   "id": "ca6d1377-a0ce-4ec6-8edb-0f77e5f42a6d",
   "metadata": {},
   "outputs": [],
   "source": []
  }
 ],
 "metadata": {
  "kernelspec": {
   "display_name": "Python 3 (ipykernel)",
   "language": "python",
   "name": "python3"
  },
  "language_info": {
   "codemirror_mode": {
    "name": "ipython",
    "version": 3
   },
   "file_extension": ".py",
   "mimetype": "text/x-python",
   "name": "python",
   "nbconvert_exporter": "python",
   "pygments_lexer": "ipython3",
   "version": "3.13.3"
  }
 },
 "nbformat": 4,
 "nbformat_minor": 5
}
