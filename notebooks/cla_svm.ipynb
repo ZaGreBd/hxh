{
 "cells": [
  {
   "cell_type": "code",
   "execution_count": 1,
   "id": "e6ca4bcf-3191-4598-96e4-197fe54055f4",
   "metadata": {},
   "outputs": [],
   "source": [
    "%run baseSpliter.ipynb\n",
    "def svm(testSize, sca):\n",
    "    featuresTrain, featuresTest, targetTrain, targetTest = spliter(testSize, sca)\n",
    "    \n",
    "    from sklearn.model_selection import GridSearchCV\n",
    "    from sklearn.svm import SVC\n",
    "    from sklearn.metrics import confusion_matrix, classification_report, roc_auc_score\n",
    "   \n",
    "\n",
    "    # Support Vector Machine params\n",
    "    paramsSVM = {\n",
    "        'C': [18.5], # 0.1, 1, 5, 10, 15, 18, 18.25, 18.3, 18.4, 18.45, 18.55, 18.6, 18.7, 18.75, 19, 19.05, 19.1, 19.15, 19.25, 19.4, 19.5, 19.75, 20, 20.5, 22, 25, 40, 80\n",
    "        'kernel': ['rbf'] #'sigmoid', 'poly', 'linear'\n",
    "    }\n",
    "    \n",
    "    # Support Vector Machine training\n",
    "    gridSVM = GridSearchCV(SVC(probability=True, random_state=42), paramsSVM, cv=5)\n",
    "    gridSVM.fit(featuresTrain, targetTrain)\n",
    "    \n",
    "    # Support Vector Machine testing\n",
    "    predictedSVM = gridSVM.predict(featuresTest)\n",
    "    \n",
    "    # Support Vector Machine results\n",
    "    print(\"Support Vector Machine\")\n",
    "    print(\"Best Params:\", gridSVM.best_params_)\n",
    "    print(confusion_matrix(targetTest, predictedSVM))\n",
    "    print(classification_report(targetTest, predictedSVM))\n",
    "    print(\"ROC-AUC:\", roc_auc_score(targetTest, predictedSVM))"
   ]
  },
  {
   "cell_type": "code",
   "execution_count": 45,
   "id": "d01ea7d8-171f-4c9c-8d58-4aa75167174b",
   "metadata": {},
   "outputs": [],
   "source": [
    "#testSize = 0.2\n",
    "#scaler = \"ss\"\n",
    "#svm(testSize, scaler)"
   ]
  },
  {
   "cell_type": "code",
   "execution_count": null,
   "id": "9336b02b-bb9f-4ee6-8eff-ef7c3c1f1268",
   "metadata": {},
   "outputs": [],
   "source": []
  }
 ],
 "metadata": {
  "kernelspec": {
   "display_name": "Python 3 (ipykernel)",
   "language": "python",
   "name": "python3"
  },
  "language_info": {
   "codemirror_mode": {
    "name": "ipython",
    "version": 3
   },
   "file_extension": ".py",
   "mimetype": "text/x-python",
   "name": "python",
   "nbconvert_exporter": "python",
   "pygments_lexer": "ipython3",
   "version": "3.13.3"
  }
 },
 "nbformat": 4,
 "nbformat_minor": 5
}
