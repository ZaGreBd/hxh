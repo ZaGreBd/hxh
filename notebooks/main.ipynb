{
 "cells": [
  {
   "cell_type": "code",
   "execution_count": 164,
   "id": "63d2f127-d325-4245-bfce-a7ac58fb3b31",
   "metadata": {
    "scrolled": true
   },
   "outputs": [],
   "source": [
    "import pandas as pd\n",
    "%run $rename.ipynb\n",
    "%run $impData.ipynb\n",
    "\n",
    "def main(pr=0): #Change pr to verbose (0-False | 1-True)\n",
    "    file=\"dataset_tcc_churn_0-1.csv\"\n",
    "    path=\"../datasets/telco-customer-churn/versions/1/\"\n",
    "    dataSet = impData(pr, file, path)\n",
    "    rename(dataSet, pr)\n",
    "    \n",
    "    dataSet = dataSet.drop(columns=['customerID'])\n",
    "    #print(dataSet)\n",
    "    #dataSet.describe()\n",
    "\n",
    "    #dataSet.info()\n",
    "\n",
    "    dataSet[\"totalCharges\"] = pd.to_numeric(dataSet[\"totalCharges\"], errors='coerce')\n",
    "    #dataSet.info()\n",
    "    #dataSet.index\n",
    "\n",
    "    dataSet['totalCharges'] = dataSet['totalCharges'].fillna(0)\n",
    "    #dataSet.index\n",
    "\n",
    "    #print(dataSet.isnull().sum())\n",
    "\n",
    "    return dataSet"
   ]
  },
  {
   "cell_type": "code",
   "execution_count": null,
   "id": "0976590c-43b8-4fe9-a152-ee558630f0df",
   "metadata": {},
   "outputs": [],
   "source": []
  }
 ],
 "metadata": {
  "kernelspec": {
   "display_name": "Python 3 (ipykernel)",
   "language": "python",
   "name": "python3"
  },
  "language_info": {
   "codemirror_mode": {
    "name": "ipython",
    "version": 3
   },
   "file_extension": ".py",
   "mimetype": "text/x-python",
   "name": "python",
   "nbconvert_exporter": "python",
   "pygments_lexer": "ipython3",
   "version": "3.13.3"
  }
 },
 "nbformat": 4,
 "nbformat_minor": 5
}
