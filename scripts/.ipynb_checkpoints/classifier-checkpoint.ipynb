{
 "cells": [
  {
   "cell_type": "code",
   "execution_count": 9,
   "id": "a91fd8f7-fd5d-45a5-8d5f-13d9f6781dfa",
   "metadata": {},
   "outputs": [
    {
     "name": "stdout",
     "output_type": "stream",
     "text": [
      "      gender  seniorCitizen partner dependents  tenure phoneService  \\\n",
      "0     Female              0     Yes         No       1           No   \n",
      "1       Male              0      No         No      34          Yes   \n",
      "2       Male              0      No         No       2          Yes   \n",
      "3       Male              0      No         No      45           No   \n",
      "4     Female              0      No         No       2          Yes   \n",
      "...      ...            ...     ...        ...     ...          ...   \n",
      "7038    Male              0     Yes        Yes      24          Yes   \n",
      "7039  Female              0     Yes        Yes      72          Yes   \n",
      "7040  Female              0     Yes        Yes      11           No   \n",
      "7041    Male              1     Yes         No       4          Yes   \n",
      "7042    Male              0      No         No      66          Yes   \n",
      "\n",
      "         multipleLines internetService onlineSecurity onlineBackup  \\\n",
      "0     No phone service             DSL             No          Yes   \n",
      "1                   No             DSL            Yes           No   \n",
      "2                   No             DSL            Yes          Yes   \n",
      "3     No phone service             DSL            Yes           No   \n",
      "4                   No     Fiber optic             No           No   \n",
      "...                ...             ...            ...          ...   \n",
      "7038               Yes             DSL            Yes           No   \n",
      "7039               Yes     Fiber optic             No          Yes   \n",
      "7040  No phone service             DSL            Yes           No   \n",
      "7041               Yes     Fiber optic             No           No   \n",
      "7042                No     Fiber optic            Yes           No   \n",
      "\n",
      "     deviceProtection techSupport streamingTV streamingMovies        contract  \\\n",
      "0                  No          No          No              No  Month-to-month   \n",
      "1                 Yes          No          No              No        One year   \n",
      "2                  No          No          No              No  Month-to-month   \n",
      "3                 Yes         Yes          No              No        One year   \n",
      "4                  No          No          No              No  Month-to-month   \n",
      "...               ...         ...         ...             ...             ...   \n",
      "7038              Yes         Yes         Yes             Yes        One year   \n",
      "7039              Yes          No         Yes             Yes        One year   \n",
      "7040               No          No          No              No  Month-to-month   \n",
      "7041               No          No          No              No  Month-to-month   \n",
      "7042              Yes         Yes         Yes             Yes        Two year   \n",
      "\n",
      "     paperlessBilling              paymentMethod  monthlyCharges totalCharges  \\\n",
      "0                 Yes           Electronic check           29.85        29.85   \n",
      "1                  No               Mailed check           56.95       1889.5   \n",
      "2                 Yes               Mailed check           53.85       108.15   \n",
      "3                  No  Bank transfer (automatic)           42.30      1840.75   \n",
      "4                 Yes           Electronic check           70.70       151.65   \n",
      "...               ...                        ...             ...          ...   \n",
      "7038              Yes               Mailed check           84.80       1990.5   \n",
      "7039              Yes    Credit card (automatic)          103.20       7362.9   \n",
      "7040              Yes           Electronic check           29.60       346.45   \n",
      "7041              Yes               Mailed check           74.40        306.6   \n",
      "7042              Yes  Bank transfer (automatic)          105.65       6844.5   \n",
      "\n",
      "     churn  \n",
      "0       No  \n",
      "1       No  \n",
      "2      Yes  \n",
      "3       No  \n",
      "4      Yes  \n",
      "...    ...  \n",
      "7038    No  \n",
      "7039    No  \n",
      "7040    No  \n",
      "7041   Yes  \n",
      "7042    No  \n",
      "\n",
      "[7043 rows x 20 columns]\n"
     ]
    }
   ],
   "source": [
    "%run $main.ipynb\n",
    "import matplotlib.pyplot as plt\n",
    "from sklearn.neural_network import MLPClassifier\n",
    "\n",
    "datas = main(0)\n",
    "print(datas)\n",
    "mlp = MLPClassifier(hidden_layer_sizes=(5,), activation=\"logistic\", max_iter=100, alpha=.001, solver=\"sgd\", tol=1e-9, learning_rate_init=.01, \n",
    "                    verbose=True)\n",
    "#mlp = mlp.fit(datas.head(datas.shape[0]-500), datas.iloc[-500:,-1].values)"
   ]
  },
  {
   "cell_type": "code",
   "execution_count": null,
   "id": "e10a6bd2-c4f6-4dc3-90cc-51334d505883",
   "metadata": {},
   "outputs": [],
   "source": []
  },
  {
   "cell_type": "code",
   "execution_count": null,
   "id": "2f1b95da-77dc-4c21-9477-cf61d855a929",
   "metadata": {},
   "outputs": [],
   "source": []
  }
 ],
 "metadata": {
  "kernelspec": {
   "display_name": "Python 3 (ipykernel)",
   "language": "python",
   "name": "python3"
  },
  "language_info": {
   "codemirror_mode": {
    "name": "ipython",
    "version": 3
   },
   "file_extension": ".py",
   "mimetype": "text/x-python",
   "name": "python",
   "nbconvert_exporter": "python",
   "pygments_lexer": "ipython3",
   "version": "3.13.3"
  }
 },
 "nbformat": 4,
 "nbformat_minor": 5
}
