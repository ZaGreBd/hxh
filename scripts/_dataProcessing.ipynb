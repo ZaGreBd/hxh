{
 "cells": [
  {
   "cell_type": "code",
   "execution_count": 5,
   "id": "3a95a9c5-5142-4dfa-808e-14e4fa2c562d",
   "metadata": {},
   "outputs": [],
   "source": [
    "def dataProcessing(dataSet, dataProcessingRule):\n",
    "    try:\n",
    "        match dataProcessingRule['dataRule']:\n",
    "            case 1:\n",
    "                dataSet = dataSet\n",
    "            case _:\n",
    "                print(\"Value is not recognized\")\n",
    "        if dataProcessingRule['dataRulePrint']:\n",
    "            print(f\"Data processing rule {dataProcessingRule['dataRule']} applied!\\n{'*'*20}\")\n",
    "\n",
    "        return dataSet\n",
    "    except Exception as e:\n",
    "        print(f\"Error processing {dataSet} at dp1. {e}\")"
   ]
  },
  {
   "cell_type": "code",
   "execution_count": null,
   "id": "2d50a852-993a-4997-8aaa-5a67b21f2222",
   "metadata": {},
   "outputs": [],
   "source": []
  }
 ],
 "metadata": {
  "kernelspec": {
   "display_name": "Python 3 (ipykernel)",
   "language": "python",
   "name": "python3"
  },
  "language_info": {
   "codemirror_mode": {
    "name": "ipython",
    "version": 3
   },
   "file_extension": ".py",
   "mimetype": "text/x-python",
   "name": "python",
   "nbconvert_exporter": "python",
   "pygments_lexer": "ipython3",
   "version": "3.13.3"
  }
 },
 "nbformat": 4,
 "nbformat_minor": 5
}
