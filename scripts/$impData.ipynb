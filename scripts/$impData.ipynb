{
 "cells": [
  {
   "cell_type": "code",
   "execution_count": null,
   "id": "fe4ecb83-b108-42d8-b3e0-1d3d34c7994e",
   "metadata": {},
   "outputs": [],
   "source": [
    "def impData(pr=1, file=\"\", path=\"\"):\n",
    "    try:\n",
    "        import pandas as pd\n",
    "        \n",
    "        ds_path = f\"{path}{file}\" # dataset path\n",
    "        ds = pd.read_csv(ds_path) # header=1 eliminates header line\n",
    "    \n",
    "        if pr:\n",
    "            print(f\"Dataset {file} readed!\\n{'*'*20}\")\n",
    "    except Exception as e:\n",
    "        print(f\"Error importing {file}. {e}\")\n",
    "        \n",
    "    return ds"
   ]
  }
 ],
 "metadata": {
  "kernelspec": {
   "display_name": "Python 3 (ipykernel)",
   "language": "python",
   "name": "python3"
  },
  "language_info": {
   "codemirror_mode": {
    "name": "ipython",
    "version": 3
   },
   "file_extension": ".py",
   "mimetype": "text/x-python",
   "name": "python",
   "nbconvert_exporter": "python",
   "pygments_lexer": "ipython3",
   "version": "3.13.3"
  }
 },
 "nbformat": 4,
 "nbformat_minor": 5
}
